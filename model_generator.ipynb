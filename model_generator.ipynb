{
  "nbformat": 4,
  "nbformat_minor": 0,
  "metadata": {
    "orig_nbformat": 4,
    "language_info": {
      "name": "python",
      "version": "3.9.2",
      "mimetype": "text/x-python",
      "codemirror_mode": {
        "name": "ipython",
        "version": 3
      },
      "pygments_lexer": "ipython3",
      "nbconvert_exporter": "python",
      "file_extension": ".py"
    },
    "kernelspec": {
      "name": "python3",
      "display_name": "Python 3.9.2 64-bit"
    },
    "interpreter": {
      "hash": "a8e9ca387ae050b0cffb3b7fd3cfaa3e16dc6269390b4b6d3e7bb7f5ab267083"
    },
    "colab": {
      "name": "model_generator.ipynb",
      "provenance": [],
      "collapsed_sections": []
    },
    "accelerator": "GPU"
  },
  "cells": [
    {
      "cell_type": "code",
      "metadata": {
        "id": "_S29uJ8YORpB",
        "colab": {
          "base_uri": "https://localhost:8080/"
        },
        "outputId": "75c5496b-99e9-48e5-badc-f4c2cffac868"
      },
      "source": [
        "from google.colab import drive\n",
        "drive.mount(\"/content/drive\")\n",
        "import zipfile \n",
        "with zipfile.ZipFile('/content/drive/My Drive/Vision_Arcadia/Hand_Gestures_Dataset.zip','r') as zip_ref:\n",
        "    zip_ref.extractall('/content/data/')"
      ],
      "execution_count": 1,
      "outputs": [
        {
          "output_type": "stream",
          "name": "stdout",
          "text": [
            "Mounted at /content/drive\n"
          ]
        }
      ]
    },
    {
      "cell_type": "code",
      "metadata": {
        "id": "bemvdWptORou"
      },
      "source": [
        "import glob\n",
        "import matplotlib.pyplot as plt\n",
        "import numpy as np\n",
        "import tensorflow as tf\n",
        "import os\n",
        "from tensorflow.keras.preprocessing import image_dataset_from_directory\n",
        "import cv2\n",
        "import pandas as pd\n",
        "from skimage.transform import resize\n",
        "from imageio import imread\n",
        "import datetime\n",
        "from tensorflow.keras.preprocessing.image import ImageDataGenerator\n",
        "\n",
        "import random as rn\n",
        "\n",
        "rn.seed(30)\n",
        "from keras import backend as K\n",
        "from tensorflow.keras.models import Sequential, Model\n",
        "from tensorflow.keras.layers import Dense, Conv2D, MaxPooling2D, Flatten, Dropout, GlobalAveragePooling2D, Concatenate, BatchNormalization, Input\n",
        "from sklearn.model_selection import train_test_split\n",
        "from google.colab import files\n",
        "import pandas as pd\n",
        "import matplotlib.pyplot as plt\n",
        "\n",
        "tf.random.set_seed(30)"
      ],
      "execution_count": 2,
      "outputs": []
    },
    {
      "cell_type": "code",
      "metadata": {
        "id": "qBiTDhftORo2"
      },
      "source": [
        "train_dir = \"/content/data/Hand_Gestures_Dataset_new/train\"\n",
        "test_dir = \"/content/data/Hand_Gestures_Dataset_new/val\"\n",
        "img_size = (320, 120)\n"
      ],
      "execution_count": 3,
      "outputs": []
    },
    {
      "cell_type": "code",
      "metadata": {
        "id": "kHP9GarfORo3"
      },
      "source": [
        "train_datagen = ImageDataGenerator(width_shift_range=0.1,\n",
        "                                   height_shift_range=0.1,\n",
        "                                   horizontal_flip=False,\n",
        "                                   rescale=1. / 255,\n",
        "                                   validation_split=0.2)\n",
        "validation_datagen = ImageDataGenerator(rescale=1. / 255, validation_split=0.8)\n"
      ],
      "execution_count": 4,
      "outputs": []
    },
    {
      "cell_type": "code",
      "metadata": {
        "id": "kbBBRE2RORo4",
        "colab": {
          "base_uri": "https://localhost:8080/"
        },
        "outputId": "58d68899-1a68-4d1a-d1d4-a7a27a3ddf29"
      },
      "source": [
        "train_generator = train_datagen.flow_from_directory(directory=train_dir,\n",
        "                                                    target_size=img_size,\n",
        "                                                    batch_size=64,\n",
        "                                                    color_mode=\"grayscale\",\n",
        "                                                    class_mode=\"categorical\",\n",
        "                                                    subset=\"training\",\n",
        "                                                    shuffle=True,\n",
        "                                                    seed=42)\n",
        "validation_generator = validation_datagen.flow_from_directory(\n",
        "    directory=test_dir,\n",
        "    target_size=img_size,\n",
        "    batch_size=64,\n",
        "    color_mode=\"grayscale\",\n",
        "    class_mode=\"categorical\",\n",
        "    subset=\"validation\",\n",
        "    shuffle=True,\n",
        "    seed=42)\n",
        "#same for testing"
      ],
      "execution_count": 5,
      "outputs": [
        {
          "output_type": "stream",
          "name": "stdout",
          "text": [
            "Found 19600 images belonging to 7 classes.\n",
            "Found 8400 images belonging to 7 classes.\n"
          ]
        }
      ]
    },
    {
      "cell_type": "code",
      "metadata": {
        "id": "WrrMS2WEORo5",
        "colab": {
          "base_uri": "https://localhost:8080/"
        },
        "outputId": "5edb5163-03b1-40c4-bc03-9153ea186ee5"
      },
      "source": [
        "model = tf.keras.Sequential([\n",
        "\n",
        "        # input layer\n",
        "        tf.keras.layers.Conv2D(32,(3,3),activation = 'relu',input_shape=(320, 120, 1)),\n",
        "        tf.keras.layers.MaxPooling2D(2,2),\n",
        "        tf.keras.layers.Conv2D(64,(3,3), padding='same', activation='relu' ),\n",
        "        tf.keras.layers.BatchNormalization(),\n",
        "        tf.keras.layers.MaxPooling2D(2,2),\n",
        "\n",
        "        # 1st hidden dense layer\n",
        "        tf.keras.layers.Conv2D(128,(5,5), padding='same', activation='relu'),\n",
        "        tf.keras.layers.BatchNormalization(),\n",
        "        tf.keras.layers.MaxPooling2D(2,2),\n",
        "    \n",
        "        # 2nd hidden dense layer\n",
        "        tf.keras.layers.Conv2D(512,(3,3), padding='same', activation='relu',kernel_regularizer=tf.keras.regularizers.l2(0.01)),\n",
        "        tf.keras.layers.BatchNormalization(),\n",
        "        tf.keras.layers.MaxPooling2D(2,2),\n",
        "    \n",
        "        # 3rd hidden dense layer\n",
        "        tf.keras.layers.Conv2D(512,(3,3), padding='same', activation='relu',kernel_regularizer=tf.keras.regularizers.l2(0.01)),\n",
        "        tf.keras.layers.BatchNormalization(),\n",
        "        tf.keras.layers.MaxPooling2D(2,2),\n",
        "    \n",
        "        # Flatten layer\n",
        "        tf.keras.layers.Flatten(),\n",
        "        tf.keras.layers.Dense(256, activation='relu'),\n",
        "        tf.keras.layers.BatchNormalization(),\n",
        "    \n",
        "        tf.keras.layers.Dense(512, activation='relu'),\n",
        "        tf.keras.layers.BatchNormalization(),\n",
        "        tf.keras.layers.Dense(7, activation='softmax')\n",
        "    ])\n",
        "optimiser = tf.keras.optimizers.Adam(lr=0.0001)\n",
        "model.compile(optimizer=optimiser,\n",
        "                  loss='categorical_crossentropy',\n",
        "                  metrics=['accuracy'])\n",
        "\n",
        "model.summary()\n"
      ],
      "execution_count": 6,
      "outputs": [
        {
          "output_type": "stream",
          "name": "stdout",
          "text": [
            "Model: \"sequential\"\n",
            "_________________________________________________________________\n",
            "Layer (type)                 Output Shape              Param #   \n",
            "=================================================================\n",
            "conv2d (Conv2D)              (None, 318, 118, 32)      320       \n",
            "_________________________________________________________________\n",
            "max_pooling2d (MaxPooling2D) (None, 159, 59, 32)       0         \n",
            "_________________________________________________________________\n",
            "conv2d_1 (Conv2D)            (None, 159, 59, 64)       18496     \n",
            "_________________________________________________________________\n",
            "batch_normalization (BatchNo (None, 159, 59, 64)       256       \n",
            "_________________________________________________________________\n",
            "max_pooling2d_1 (MaxPooling2 (None, 79, 29, 64)        0         \n",
            "_________________________________________________________________\n",
            "conv2d_2 (Conv2D)            (None, 79, 29, 128)       204928    \n",
            "_________________________________________________________________\n",
            "batch_normalization_1 (Batch (None, 79, 29, 128)       512       \n",
            "_________________________________________________________________\n",
            "max_pooling2d_2 (MaxPooling2 (None, 39, 14, 128)       0         \n",
            "_________________________________________________________________\n",
            "conv2d_3 (Conv2D)            (None, 39, 14, 512)       590336    \n",
            "_________________________________________________________________\n",
            "batch_normalization_2 (Batch (None, 39, 14, 512)       2048      \n",
            "_________________________________________________________________\n",
            "max_pooling2d_3 (MaxPooling2 (None, 19, 7, 512)        0         \n",
            "_________________________________________________________________\n",
            "conv2d_4 (Conv2D)            (None, 19, 7, 512)        2359808   \n",
            "_________________________________________________________________\n",
            "batch_normalization_3 (Batch (None, 19, 7, 512)        2048      \n",
            "_________________________________________________________________\n",
            "max_pooling2d_4 (MaxPooling2 (None, 9, 3, 512)         0         \n",
            "_________________________________________________________________\n",
            "flatten (Flatten)            (None, 13824)             0         \n",
            "_________________________________________________________________\n",
            "dense (Dense)                (None, 256)               3539200   \n",
            "_________________________________________________________________\n",
            "batch_normalization_4 (Batch (None, 256)               1024      \n",
            "_________________________________________________________________\n",
            "dense_1 (Dense)              (None, 512)               131584    \n",
            "_________________________________________________________________\n",
            "batch_normalization_5 (Batch (None, 512)               2048      \n",
            "_________________________________________________________________\n",
            "dense_2 (Dense)              (None, 7)                 3591      \n",
            "=================================================================\n",
            "Total params: 6,856,199\n",
            "Trainable params: 6,852,231\n",
            "Non-trainable params: 3,968\n",
            "_________________________________________________________________\n"
          ]
        },
        {
          "output_type": "stream",
          "name": "stderr",
          "text": [
            "/usr/local/lib/python3.7/dist-packages/keras/optimizer_v2/optimizer_v2.py:356: UserWarning: The `lr` argument is deprecated, use `learning_rate` instead.\n",
            "  \"The `lr` argument is deprecated, use `learning_rate` instead.\")\n"
          ]
        }
      ]
    },
    {
      "cell_type": "code",
      "metadata": {
        "id": "9ognQzxiORo7"
      },
      "source": [
        "epochs = 6\n",
        "batch_size = 64"
      ],
      "execution_count": 12,
      "outputs": []
    },
    {
      "cell_type": "code",
      "metadata": {
        "id": "zK_Ys369ORo-",
        "colab": {
          "base_uri": "https://localhost:8080/"
        },
        "outputId": "76c0425a-9230-4a6d-8e82-c2a0dcefc96a"
      },
      "source": [
        "history = model.fit(x=train_generator,\n",
        "                    epochs=epochs,\n",
        "                    validation_data=validation_generator)"
      ],
      "execution_count": 13,
      "outputs": [
        {
          "output_type": "stream",
          "name": "stdout",
          "text": [
            "Epoch 1/6\n",
            "307/307 [==============================] - 217s 705ms/step - loss: 0.2914 - accuracy: 0.9929 - val_loss: 0.6690 - val_accuracy: 0.8552\n",
            "Epoch 2/6\n",
            "307/307 [==============================] - 214s 697ms/step - loss: 0.2049 - accuracy: 0.9958 - val_loss: 1.1576 - val_accuracy: 0.7994\n",
            "Epoch 3/6\n",
            "307/307 [==============================] - 215s 699ms/step - loss: 0.1488 - accuracy: 0.9960 - val_loss: 0.7205 - val_accuracy: 0.9099\n",
            "Epoch 4/6\n",
            "307/307 [==============================] - 218s 711ms/step - loss: 0.1217 - accuracy: 0.9955 - val_loss: 0.7725 - val_accuracy: 0.8945\n",
            "Epoch 5/6\n",
            "307/307 [==============================] - 215s 701ms/step - loss: 0.1328 - accuracy: 0.9934 - val_loss: 1.2198 - val_accuracy: 0.7481\n",
            "Epoch 6/6\n",
            "307/307 [==============================] - 216s 702ms/step - loss: 0.1120 - accuracy: 0.9959 - val_loss: 0.5719 - val_accuracy: 0.8824\n"
          ]
        }
      ]
    },
    {
      "cell_type": "code",
      "metadata": {
        "id": "8e5AyGuvORo_",
        "colab": {
          "base_uri": "https://localhost:8080/",
          "height": 562
        },
        "outputId": "c8bf958f-35a8-4b88-8a75-8cf7768a2443"
      },
      "source": [
        "accuracy = history.history['accuracy']\n",
        "val_acc = history.history['val_accuracy']\n",
        "loss = history.history['loss']\n",
        "val_loss = history.history['val_loss']\n",
        "\n",
        "epochs = range(len(accuracy))\n",
        "\n",
        "plt.plot(epochs, accuracy, 'r', label='Training accuracy')\n",
        "plt.plot(epochs, val_acc, 'b', label='Validation accuracy')\n",
        "plt.title('Training and validation accuracy')\n",
        "plt.ylim([0.00, 1.00])\n",
        "plt.legend(loc=0)\n",
        "plt.figure()\n",
        "\n",
        "plt.show()\n",
        "\n",
        "plt.plot(epochs, loss, 'r', label='Training loss')\n",
        "plt.plot(epochs, val_loss, 'b', label='Validation loss')\n",
        "plt.title('Training and validation loss')\n",
        "plt.legend(loc=0)\n",
        "plt.show()"
      ],
      "execution_count": 14,
      "outputs": [
        {
          "output_type": "display_data",
          "data": {
            "image/png": "[encoded data removed]",
            "text/plain": [
              "<Figure size 432x288 with 1 Axes>"
            ]
          },
          "metadata": {
            "needs_background": "light"
          }
        },
        {
          "output_type": "display_data",
          "data": {
            "text/plain": [
              "<Figure size 432x288 with 0 Axes>"
            ]
          },
          "metadata": {}
        },
        {
          "output_type": "display_data",
          "data": {
            "image/png": "[encoded data removed]",
            "text/plain": [
              "<Figure size 432x288 with 1 Axes>"
            ]
          },
          "metadata": {
            "needs_background": "light"
          }
        }
      ]
    },
    {
      "cell_type": "code",
      "metadata": {
        "id": "asklRsGzORpA",
        "colab": {
          "base_uri": "https://localhost:8080/"
        },
        "outputId": "1946e880-5373-4271-b439-6de171b31b20"
      },
      "source": [
        "train_loss, train_acc = model.evaluate(train_generator)\n",
        "test_loss, test_acc = model.evaluate(validation_generator)\n",
        "print(\"final train accuracy = {:.2f}, validation accuracy = {:.2f}\".format(\n",
        "    train_acc * 100, test_acc * 100))"
      ],
      "execution_count": 15,
      "outputs": [
        {
          "output_type": "stream",
          "name": "stdout",
          "text": [
            "307/307 [==============================] - 148s 482ms/step - loss: 0.1193 - accuracy: 0.9870\n",
            "132/132 [==============================] - 52s 395ms/step - loss: 0.5719 - accuracy: 0.8824\n",
            "final train accuracy = 98.70, validation accuracy = 88.24\n"
          ]
        }
      ]
    },
    {
      "cell_type": "code",
      "metadata": {
        "id": "FfLGfYo1ngat",
        "colab": {
          "base_uri": "https://localhost:8080/"
        },
        "outputId": "0cd1dd2d-e71a-4141-90b9-9e9925408fb7"
      },
      "source": [
        "model.save(\"/content/Model_Hand_Gestures\")"
      ],
      "execution_count": 16,
      "outputs": [
        {
          "output_type": "stream",
          "name": "stdout",
          "text": [
            "INFO:tensorflow:Assets written to: /content/Model_Hand_Gestures/assets\n"
          ]
        }
      ]
    },
    {
      "cell_type": "code",
      "metadata": {
        "colab": {
          "base_uri": "https://localhost:8080/"
        },
        "id": "KhlHpLSa3FPw",
        "outputId": "789cee37-e693-42a5-86b6-fbe42416025a"
      },
      "source": [
        "!zip -r /content/Model_Hand_Gestures.zip /content/Model_Hand_Gestures"
      ],
      "execution_count": 17,
      "outputs": [
        {
          "output_type": "stream",
          "name": "stdout",
          "text": [
            "  adding: content/Model_Hand_Gestures/ (stored 0%)\n",
            "  adding: content/Model_Hand_Gestures/keras_metadata.pb (deflated 94%)\n",
            "  adding: content/Model_Hand_Gestures/assets/ (stored 0%)\n",
            "  adding: content/Model_Hand_Gestures/saved_model.pb (deflated 90%)\n",
            "  adding: content/Model_Hand_Gestures/variables/ (stored 0%)\n",
            "  adding: content/Model_Hand_Gestures/variables/variables.data-00000-of-00001 (deflated 8%)\n",
            "  adding: content/Model_Hand_Gestures/variables/variables.index (deflated 73%)\n"
          ]
        }
      ]
    },
    {
      "cell_type": "code",
      "metadata": {
        "id": "cf2x4IbG9-I7",
        "colab": {
          "base_uri": "https://localhost:8080/",
          "height": 17
        },
        "outputId": "d69a23dd-6173-45ad-accf-6022447b929d"
      },
      "source": [
        "files.download('/content/Model_Hand_Gestures.zip')"
      ],
      "execution_count": 19,
      "outputs": [
        {
          "output_type": "display_data",
          "data": {
            "application/javascript": [
              "\n",
              "    async function download(id, filename, size) {\n",
              "      if (!google.colab.kernel.accessAllowed) {\n",
              "        return;\n",
              "      }\n",
              "      const div = document.createElement('div');\n",
              "      const label = document.createElement('label');\n",
              "      label.textContent = `Downloading \"${filename}\": `;\n",
              "      div.appendChild(label);\n",
              "      const progress = document.createElement('progress');\n",
              "      progress.max = size;\n",
              "      div.appendChild(progress);\n",
              "      document.body.appendChild(div);\n",
              "\n",
              "      const buffers = [];\n",
              "      let downloaded = 0;\n",
              "\n",
              "      const channel = await google.colab.kernel.comms.open(id);\n",
              "      // Send a message to notify the kernel that we're ready.\n",
              "      channel.send({})\n",
              "\n",
              "      for await (const message of channel.messages) {\n",
              "        // Send a message to notify the kernel that we're ready.\n",
              "        channel.send({})\n",
              "        if (message.buffers) {\n",
              "          for (const buffer of message.buffers) {\n",
              "            buffers.push(buffer);\n",
              "            downloaded += buffer.byteLength;\n",
              "            progress.value = downloaded;\n",
              "          }\n",
              "        }\n",
              "      }\n",
              "      const blob = new Blob(buffers, {type: 'application/binary'});\n",
              "      const a = document.createElement('a');\n",
              "      a.href = window.URL.createObjectURL(blob);\n",
              "      a.download = filename;\n",
              "      div.appendChild(a);\n",
              "      a.click();\n",
              "      div.remove();\n",
              "    }\n",
              "  "
            ],
            "text/plain": [
              "<IPython.core.display.Javascript object>"
            ]
          },
          "metadata": {}
        },
        {
          "output_type": "display_data",
          "data": {
            "application/javascript": [
              "download(\"download_38a5fe2f-be4f-4cb6-b605-5714c4fa215f\", \"Model_Hand_Gestures.zip\", 75598300)"
            ],
            "text/plain": [
              "<IPython.core.display.Javascript object>"
            ]
          },
          "metadata": {}
        }
      ]
    },
    {
      "cell_type": "code",
      "metadata": {
        "id": "o80PzkAT2I5B"
      },
      "source": [
        ""
      ],
      "execution_count": null,
      "outputs": []
    }
  ]
}