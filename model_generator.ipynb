{
  "nbformat": 4,
  "nbformat_minor": 2,
  "metadata": {
    "orig_nbformat": 4,
    "language_info": {
      "name": "python",
      "version": "3.9.2",
      "mimetype": "text/x-python",
      "codemirror_mode": {
        "name": "ipython",
        "version": 3
      },
      "pygments_lexer": "ipython3",
      "nbconvert_exporter": "python",
      "file_extension": ".py"
    },
    "kernelspec": {
      "name": "python3",
      "display_name": "Python 3.9.2 64-bit"
    },
    "interpreter": {
      "hash": "a8e9ca387ae050b0cffb3b7fd3cfaa3e16dc6269390b4b6d3e7bb7f5ab267083"
    },
    "colab": {
      "name": "hand_main_new_from_colab.ipynb",
      "provenance": [],
      "collapsed_sections": []
    },
    "accelerator": "GPU"
  },
  "cells": [
    {
      "cell_type": "code",
      "execution_count": 1,
      "source": [
        "# from google.colab import drive\r\n",
        "# drive.mount(\"/content/drive\")\r\n",
        "# import zipfile \r\n",
        "# with zipfile.ZipFile('/content/drive/My Drive/Vision_Arcadia/Hand_Gestures_Dataset_new_with_NOTHING.zip','r') as zip_ref:\r\n",
        "#     zip_ref.extractall('/content/data/')"
      ],
      "outputs": [
        {
          "output_type": "stream",
          "name": "stdout",
          "text": [
            "Mounted at /content/drive\n"
          ]
        }
      ],
      "metadata": {
        "id": "_S29uJ8YORpB",
        "colab": {
          "base_uri": "https://localhost:8080/"
        },
        "outputId": "e7672f1e-c2db-4cec-911e-abe03c9d96e0"
      }
    },
    {
      "cell_type": "code",
      "execution_count": 2,
      "source": [
        "import glob\r\n",
        "import matplotlib.pyplot as plt\r\n",
        "import numpy as np\r\n",
        "import tensorflow as tf\r\n",
        "import os\r\n",
        "from tensorflow.keras.preprocessing import image_dataset_from_directory\r\n",
        "import cv2\r\n",
        "import pandas as pd\r\n",
        "from skimage.transform import resize\r\n",
        "from imageio import imread\r\n",
        "import datetime\r\n",
        "from tensorflow.keras.preprocessing.image import ImageDataGenerator\r\n",
        "\r\n",
        "import random as rn\r\n",
        "\r\n",
        "rn.seed(30)\r\n",
        "from keras import backend as K\r\n",
        "from tensorflow.keras.models import Sequential, Model\r\n",
        "from tensorflow.keras.layers import Dense, Conv2D, MaxPooling2D, Flatten, Dropout, GlobalAveragePooling2D, Concatenate, BatchNormalization, Input\r\n",
        "from sklearn.model_selection import train_test_split\r\n",
        "from google.colab import files\r\n",
        "import pandas as pd\r\n",
        "import matplotlib.pyplot as plt\r\n",
        "\r\n",
        "tf.random.set_seed(30)"
      ],
      "outputs": [],
      "metadata": {
        "id": "bemvdWptORou"
      }
    },
    {
      "cell_type": "code",
      "execution_count": 3,
      "source": [
        "train_dir = \"/content/data/Hand_Gestures_Dataset_new_with_NOTHING/train\"\r\n",
        "test_dir = \"/content/data/Hand_Gestures_Dataset_new_with_NOTHING/val\"\r\n",
        "img_size = (320, 120)\r\n"
      ],
      "outputs": [],
      "metadata": {
        "id": "qBiTDhftORo2"
      }
    },
    {
      "cell_type": "code",
      "execution_count": 4,
      "source": [
        "train_datagen = ImageDataGenerator(width_shift_range=0.1,\r\n",
        "                                   height_shift_range=0.1,\r\n",
        "                                   horizontal_flip=False,\r\n",
        "                                   rescale=1. / 255,\r\n",
        "                                   validation_split=0.2)\r\n",
        "validation_datagen = ImageDataGenerator(rescale=1. / 255, validation_split=0.8)\r\n"
      ],
      "outputs": [],
      "metadata": {
        "id": "kHP9GarfORo3"
      }
    },
    {
      "cell_type": "code",
      "execution_count": 5,
      "source": [
        "train_generator = train_datagen.flow_from_directory(directory=train_dir,\r\n",
        "                                                    target_size=img_size,\r\n",
        "                                                    batch_size=64,\r\n",
        "                                                    color_mode=\"grayscale\",\r\n",
        "                                                    class_mode=\"categorical\",\r\n",
        "                                                    subset=\"training\",\r\n",
        "                                                    shuffle=True,\r\n",
        "                                                    seed=42)\r\n",
        "validation_generator = validation_datagen.flow_from_directory(\r\n",
        "    directory=test_dir,\r\n",
        "    target_size=img_size,\r\n",
        "    batch_size=64,\r\n",
        "    color_mode=\"grayscale\",\r\n",
        "    class_mode=\"categorical\",\r\n",
        "    subset=\"validation\",\r\n",
        "    shuffle=True,\r\n",
        "    seed=42)\r\n",
        "#same for testing"
      ],
      "outputs": [
        {
          "output_type": "stream",
          "name": "stdout",
          "text": [
            "Found 22400 images belonging to 8 classes.\n",
            "Found 9600 images belonging to 8 classes.\n"
          ]
        }
      ],
      "metadata": {
        "id": "kbBBRE2RORo4",
        "colab": {
          "base_uri": "https://localhost:8080/"
        },
        "outputId": "f3980c65-1287-4e58-ea40-48511d1b6ce8"
      }
    },
    {
      "cell_type": "code",
      "execution_count": 6,
      "source": [
        "model = Sequential(name=\"CIFAR_Sequential_CNN\")\r\n",
        "\r\n",
        "model.add(Conv2D(32, (3, 3), activation='relu', input_shape=(320, 120, 1)))\r\n",
        "model.add(MaxPooling2D((2, 2)))\r\n",
        "model.add(Conv2D(64, (3, 3), activation='relu'))\r\n",
        "model.add(MaxPooling2D((2, 2)))\r\n",
        "model.add(Flatten())\r\n",
        "model.add(Dense(256, activation='relu'))\r\n",
        "model.add(Dropout(0.15))\r\n",
        "model.add(Dense(128, activation='relu'))\r\n",
        "model.add(Dense(8, activation='softmax'))\r\n",
        "\r\n",
        "model.compile(loss='categorical_crossentropy',\r\n",
        "              optimizer=\"adam\",\r\n",
        "              metrics=['accuracy'])\r\n",
        "model.summary()"
      ],
      "outputs": [
        {
          "output_type": "stream",
          "name": "stdout",
          "text": [
            "Model: \"CIFAR_Sequential_CNN\"\n",
            "_________________________________________________________________\n",
            "Layer (type)                 Output Shape              Param #   \n",
            "=================================================================\n",
            "conv2d (Conv2D)              (None, 318, 118, 32)      320       \n",
            "_________________________________________________________________\n",
            "max_pooling2d (MaxPooling2D) (None, 159, 59, 32)       0         \n",
            "_________________________________________________________________\n",
            "conv2d_1 (Conv2D)            (None, 157, 57, 64)       18496     \n",
            "_________________________________________________________________\n",
            "max_pooling2d_1 (MaxPooling2 (None, 78, 28, 64)        0         \n",
            "_________________________________________________________________\n",
            "flatten (Flatten)            (None, 139776)            0         \n",
            "_________________________________________________________________\n",
            "dense (Dense)                (None, 256)               35782912  \n",
            "_________________________________________________________________\n",
            "dropout (Dropout)            (None, 256)               0         \n",
            "_________________________________________________________________\n",
            "dense_1 (Dense)              (None, 128)               32896     \n",
            "_________________________________________________________________\n",
            "dense_2 (Dense)              (None, 8)                 1032      \n",
            "=================================================================\n",
            "Total params: 35,835,656\n",
            "Trainable params: 35,835,656\n",
            "Non-trainable params: 0\n",
            "_________________________________________________________________\n"
          ]
        }
      ],
      "metadata": {
        "id": "WrrMS2WEORo5",
        "colab": {
          "base_uri": "https://localhost:8080/"
        },
        "outputId": "855cc47a-4e96-4068-cc61-768841a5b3cd"
      }
    },
    {
      "cell_type": "code",
      "execution_count": 22,
      "source": [
        "epochs = 6\r\n",
        "batch_size = 64"
      ],
      "outputs": [],
      "metadata": {
        "id": "9ognQzxiORo7"
      }
    },
    {
      "cell_type": "code",
      "execution_count": 23,
      "source": [
        "history = model.fit(x=train_generator,\r\n",
        "                    epochs=epochs,\r\n",
        "                    validation_data=validation_generator)"
      ],
      "outputs": [
        {
          "output_type": "stream",
          "name": "stdout",
          "text": [
            "Epoch 1/6\n",
            "350/350 [==============================] - 248s 708ms/step - loss: 0.0240 - accuracy: 0.9926 - val_loss: 0.6641 - val_accuracy: 0.9014\n",
            "Epoch 2/6\n",
            "350/350 [==============================] - 248s 707ms/step - loss: 0.0230 - accuracy: 0.9931 - val_loss: 0.5446 - val_accuracy: 0.8991\n",
            "Epoch 3/6\n",
            "350/350 [==============================] - 232s 663ms/step - loss: 0.0292 - accuracy: 0.9904 - val_loss: 0.7240 - val_accuracy: 0.8847\n",
            "Epoch 4/6\n",
            "350/350 [==============================] - 230s 658ms/step - loss: 0.0269 - accuracy: 0.9916 - val_loss: 0.4669 - val_accuracy: 0.8994\n",
            "Epoch 5/6\n",
            "350/350 [==============================] - 227s 649ms/step - loss: 0.0260 - accuracy: 0.9918 - val_loss: 0.8131 - val_accuracy: 0.9040\n",
            "Epoch 6/6\n",
            "350/350 [==============================] - 240s 685ms/step - loss: 0.0298 - accuracy: 0.9911 - val_loss: 0.5091 - val_accuracy: 0.9024\n"
          ]
        }
      ],
      "metadata": {
        "id": "zK_Ys369ORo-",
        "colab": {
          "base_uri": "https://localhost:8080/"
        },
        "outputId": "305b1dd2-0bf2-458d-9f70-e536391126bf"
      }
    },
    {
      "cell_type": "code",
      "execution_count": 24,
      "source": [
        "accuracy = history.history['accuracy']\r\n",
        "val_acc = history.history['val_accuracy']\r\n",
        "loss = history.history['loss']\r\n",
        "val_loss = history.history['val_loss']\r\n",
        "\r\n",
        "epochs = range(len(accuracy))\r\n",
        "\r\n",
        "plt.plot(epochs, accuracy, 'r', label='Training accuracy')\r\n",
        "plt.plot(epochs, val_acc, 'b', label='Validation accuracy')\r\n",
        "plt.title('Training and validation accuracy')\r\n",
        "plt.legend(loc=0)\r\n",
        "plt.figure()\r\n",
        "\r\n",
        "plt.show()\r\n",
        "\r\n",
        "plt.plot(epochs, loss, 'r', label='Training loss')\r\n",
        "plt.plot(epochs, val_loss, 'b', label='Validation loss')\r\n",
        "plt.title('Training and validation loss')\r\n",
        "plt.legend(loc=0)\r\n",
        "plt.show()"
      ],
      "outputs": [
        {
          "output_type": "display_data",
          "data": {
            "image/png": "[encoded data removed]",
            "text/plain": [
              "<Figure size 432x288 with 1 Axes>"
            ]
          },
          "metadata": {
            "needs_background": "light"
          }
        },
        {
          "output_type": "display_data",
          "data": {
            "text/plain": [
              "<Figure size 432x288 with 0 Axes>"
            ]
          },
          "metadata": {}
        },
        {
          "output_type": "display_data",
          "data": {
            "image/png": "[encoded data removed]",
            "text/plain": [
              "<Figure size 432x288 with 1 Axes>"
            ]
          },
          "metadata": {
            "needs_background": "light"
          }
        }
      ],
      "metadata": {
        "id": "8e5AyGuvORo_",
        "colab": {
          "base_uri": "https://localhost:8080/",
          "height": 562
        },
        "outputId": "deb8ccbd-da3f-4ec0-fd30-c865c9fa5ee1"
      }
    },
    {
      "cell_type": "code",
      "execution_count": 25,
      "source": [
        "train_loss, train_acc = model.evaluate(train_generator)\r\n",
        "test_loss, test_acc = model.evaluate(validation_generator)\r\n",
        "print(\"final train accuracy = {:.2f}, validation accuracy = {:.2f}\".format(\r\n",
        "    train_acc * 100, test_acc * 100))"
      ],
      "outputs": [
        {
          "output_type": "stream",
          "name": "stdout",
          "text": [
            "350/350 [==============================] - 178s 508ms/step - loss: 0.0098 - accuracy: 0.9970\n",
            "150/150 [==============================] - 64s 425ms/step - loss: 0.5091 - accuracy: 0.9024\n",
            "final train accuracy = 99.70, validation accuracy = 90.24\n"
          ]
        }
      ],
      "metadata": {
        "id": "asklRsGzORpA",
        "colab": {
          "base_uri": "https://localhost:8080/"
        },
        "outputId": "7772bc78-73df-4266-c075-f3a6b7ef4a1e"
      }
    },
    {
      "cell_type": "code",
      "execution_count": 26,
      "source": [
        "model.save(\"/content/Model_Hand_Gestures\")"
      ],
      "outputs": [
        {
          "output_type": "stream",
          "name": "stdout",
          "text": [
            "INFO:tensorflow:Assets written to: /content/Model_Hand_Gestures/assets\n"
          ]
        }
      ],
      "metadata": {
        "id": "FfLGfYo1ngat",
        "colab": {
          "base_uri": "https://localhost:8080/"
        },
        "outputId": "ac278455-5149-4e49-f2f5-2f604bf5c612"
      }
    },
    {
      "cell_type": "code",
      "execution_count": 27,
      "source": [
        "!zip -r /content/Model_Hand_Gestures.zip /content/Model_Hand_Gestures"
      ],
      "outputs": [
        {
          "output_type": "stream",
          "name": "stdout",
          "text": [
            "  adding: content/Model_Hand_Gestures/ (stored 0%)\n",
            "  adding: content/Model_Hand_Gestures/keras_metadata.pb (deflated 91%)\n",
            "  adding: content/Model_Hand_Gestures/assets/ (stored 0%)\n",
            "  adding: content/Model_Hand_Gestures/saved_model.pb (deflated 89%)\n",
            "  adding: content/Model_Hand_Gestures/variables/ (stored 0%)\n",
            "  adding: content/Model_Hand_Gestures/variables/variables.data-00000-of-00001 (deflated 19%)\n",
            "  adding: content/Model_Hand_Gestures/variables/variables.index (deflated 65%)\n"
          ]
        }
      ],
      "metadata": {
        "colab": {
          "base_uri": "https://localhost:8080/"
        },
        "id": "KhlHpLSa3FPw",
        "outputId": "b820e58a-3e71-4e44-fa4a-8b0803b994e9"
      }
    },
    {
      "cell_type": "code",
      "execution_count": 28,
      "source": [
        "files.download('/content/Model_Hand_Gestures.zip')"
      ],
      "outputs": [
        {
          "output_type": "display_data",
          "data": {
            "application/javascript": "\n    async function download(id, filename, size) {\n      if (!google.colab.kernel.accessAllowed) {\n        return;\n      }\n      const div = document.createElement('div');\n      const label = document.createElement('label');\n      label.textContent = `Downloading \"${filename}\": `;\n      div.appendChild(label);\n      const progress = document.createElement('progress');\n      progress.max = size;\n      div.appendChild(progress);\n      document.body.appendChild(div);\n\n      const buffers = [];\n      let downloaded = 0;\n\n      const channel = await google.colab.kernel.comms.open(id);\n      // Send a message to notify the kernel that we're ready.\n      channel.send({})\n\n      for await (const message of channel.messages) {\n        // Send a message to notify the kernel that we're ready.\n        channel.send({})\n        if (message.buffers) {\n          for (const buffer of message.buffers) {\n            buffers.push(buffer);\n            downloaded += buffer.byteLength;\n            progress.value = downloaded;\n          }\n        }\n      }\n      const blob = new Blob(buffers, {type: 'application/binary'});\n      const a = document.createElement('a');\n      a.href = window.URL.createObjectURL(blob);\n      a.download = filename;\n      div.appendChild(a);\n      a.click();\n      div.remove();\n    }\n  ",
            "text/plain": [
              "<IPython.core.display.Javascript object>"
            ]
          },
          "metadata": {}
        },
        {
          "output_type": "display_data",
          "data": {
            "application/javascript": "download(\"download_d3a9eb65-74af-4f5c-9a0d-066f5a166de7\", \"Model_Hand_Gestures.zip\", 347436020)",
            "text/plain": [
              "<IPython.core.display.Javascript object>"
            ]
          },
          "metadata": {}
        }
      ],
      "metadata": {
        "colab": {
          "base_uri": "https://localhost:8080/",
          "height": 34
        },
        "id": "cf2x4IbG9-I7",
        "outputId": "c231efc2-03fb-4462-db9b-d0590ea53cfd"
      }
    }
  ]
}