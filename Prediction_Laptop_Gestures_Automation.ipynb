{
 "cells": [
  {
   "cell_type": "code",
   "execution_count": 13,
   "source": [
    "import warnings\r\n",
    "\r\n",
    "warnings.filterwarnings('ignore')"
   ],
   "outputs": [],
   "metadata": {}
  },
  {
   "cell_type": "markdown",
   "source": [
    "**Imports**"
   ],
   "metadata": {
    "id": "E1-eS4iXKL6s"
   }
  },
  {
   "cell_type": "code",
   "execution_count": 1,
   "source": [
    "from ctypes import cast, POINTER\r\n",
    "from comtypes import CLSCTX_ALL\r\n",
    "from pycaw.pycaw import AudioUtilities, IAudioEndpointVolume\r\n",
    "import math\r\n",
    "import pyautogui\r\n",
    "from playsound import playsound\r\n",
    "import os\r\n",
    "import sounddevice as sd\r\n",
    "import soundfile as sf\r\n",
    "import vlc\r\n",
    "import time\r\n",
    "import os\r\n",
    "from tkinter import *\r\n",
    "import subprocess\r\n",
    "import sys\r\n",
    "import tensorflow as tf\r\n",
    "import cv2\r\n",
    "import numpy as np"
   ],
   "outputs": [],
   "metadata": {
    "id": "UEKc5Vy6J-jN"
   }
  },
  {
   "cell_type": "markdown",
   "source": [
    "**Volume UP**"
   ],
   "metadata": {
    "id": "X4-FvMpAKzT8"
   }
  },
  {
   "cell_type": "code",
   "execution_count": 2,
   "source": [
    "def increaseVolume():\r\n",
    "    devices = AudioUtilities.GetSpeakers()\r\n",
    "    interface = devices.Activate(IAudioEndpointVolume._iid_, CLSCTX_ALL, None)\r\n",
    "    volume = cast(interface, POINTER(IAudioEndpointVolume))\r\n",
    "\r\n",
    "    currentVolumeDb = volume.GetMasterVolumeLevel()\r\n",
    "    volume.SetMasterVolumeLevel(currentVolumeDb + 6.0, None)\r\n"
   ],
   "outputs": [],
   "metadata": {
    "id": "CO698YNGKzT9"
   }
  },
  {
   "cell_type": "markdown",
   "source": [
    "**Volume DOWN**"
   ],
   "metadata": {
    "id": "TVA8NgT0Kzeq"
   }
  },
  {
   "cell_type": "code",
   "execution_count": 3,
   "source": [
    "def decreaseVolume():\r\n",
    "    devices = AudioUtilities.GetSpeakers()\r\n",
    "    interface = devices.Activate(IAudioEndpointVolume._iid_, CLSCTX_ALL, None)\r\n",
    "    volume = cast(interface, POINTER(IAudioEndpointVolume))\r\n",
    "\r\n",
    "    currentVolumeDb = volume.GetMasterVolumeLevel()\r\n",
    "    volume.SetMasterVolumeLevel(currentVolumeDb - 6.0, None)\r\n"
   ],
   "outputs": [],
   "metadata": {
    "id": "-H5Yy_mwKzeq"
   }
  },
  {
   "cell_type": "markdown",
   "source": [
    "**Take an SS**"
   ],
   "metadata": {
    "id": "pDjaYoML30Ww"
   }
  },
  {
   "cell_type": "code",
   "execution_count": 4,
   "source": [
    "def takeSS():\r\n",
    "    myScreenshot = pyautogui.screenshot()\r\n",
    "    myScreenshot.save(r'saved_ss.png')\r\n"
   ],
   "outputs": [],
   "metadata": {
    "id": "KJpNzAyP27lU"
   }
  },
  {
   "cell_type": "markdown",
   "source": [
    "**Play a song**"
   ],
   "metadata": {
    "id": "Rh7O1-kw5TuD"
   }
  },
  {
   "cell_type": "code",
   "execution_count": 5,
   "source": [
    "def playMusic():\r\n",
    "\r\n",
    "    os.add_dll_directory(r'C:/Program Files (x86)/VideoLAN')\r\n",
    "\r\n",
    "    p = vlc.MediaPlayer(\r\n",
    "        \"E:/Downloads/MLSessions-main/MLSessions-main/MLSession_20_09_2021_CNN/Scam-1992-Ringtone.mp3\"\r\n",
    "    )\r\n",
    "    p.play()\r\n",
    "    time.sleep(60)\r\n",
    "    p.stop()"
   ],
   "outputs": [],
   "metadata": {
    "id": "zwXkPqOD5ajw"
   }
  },
  {
   "cell_type": "markdown",
   "source": [
    "**HELP**"
   ],
   "metadata": {
    "id": "h5QG-WSe3_O3"
   }
  },
  {
   "cell_type": "code",
   "execution_count": 6,
   "source": [
    "def showHelpMenu():\r\n",
    "    path = 'HELP.pdf'\r\n",
    "    os.system(path)\r\n"
   ],
   "outputs": [],
   "metadata": {
    "id": "bUXEd7mC3Fru"
   }
  },
  {
   "cell_type": "markdown",
   "source": [
    "**Record a sound**"
   ],
   "metadata": {
    "id": "DsVrnWmh76by"
   }
  },
  {
   "cell_type": "code",
   "execution_count": 7,
   "source": [
    "def Voice_rec():\r\n",
    "    fs = 48000\r\n",
    "    myrecording = sd.rec(int(10 * fs), samplerate=fs, channels=2)\r\n",
    "    sd.wait()\r\n",
    "    return sf.write('Voice_Recording.flac', myrecording, fs)\r\n",
    "\r\n",
    "\r\n",
    "def recordSound():\r\n",
    "    master = Tk()\r\n",
    "    Label(master, text=\" Voice Recoder : \").grid(row=0, sticky=W, rowspan=5)\r\n",
    "    b = Button(master, text=\"Start\", command=Voice_rec)\r\n",
    "    b.grid(row=0, column=2, columnspan=2, rowspan=2, padx=5, pady=5)\r\n",
    "    mainloop()\r\n"
   ],
   "outputs": [],
   "metadata": {
    "id": "ErvKdO_73UMY"
   }
  },
  {
   "cell_type": "markdown",
   "source": [
    "**Launch File Explorer**"
   ],
   "metadata": {
    "id": "eojsRDpz-Yo5"
   }
  },
  {
   "cell_type": "code",
   "execution_count": 8,
   "source": [
    "def launchFileExplorer():\r\n",
    "    path = r'C:/Program Files (x86)/IronPython 2.7/Lib'\r\n",
    "    sys.path.append(path)\r\n",
    "    subprocess.Popen('explorer \"C:/\"')\r\n"
   ],
   "outputs": [],
   "metadata": {
    "id": "QFv_DDLa7-Yi"
   }
  },
  {
   "cell_type": "markdown",
   "source": [
    "**Function Call**"
   ],
   "metadata": {
    "id": "xJ8eui0dMxn2"
   }
  },
  {
   "cell_type": "code",
   "execution_count": 11,
   "source": [
    "import cv2\r\n",
    "import imutils \r\n",
    "import numpy as np\r\n",
    "from sklearn.metrics import pairwise\r\n",
    "\r\n",
    "bg = None\r\n",
    "\r\n",
    "\r\n",
    "# Function - To find the running average over the background\r\n",
    "def run_avg(image, accumWeight):\r\n",
    "    global bg\r\n",
    "    if bg is None:\r\n",
    "        bg = image.copy().astype(\"float\")\r\n",
    "        return\r\n",
    "    cv2.accumulateWeighted(image, bg, accumWeight)\r\n",
    "\r\n",
    "\r\n",
    "# Function - To segment the region of hand in the image\r\n",
    "def segment(image, threshold=30):\r\n",
    "    global bg\r\n",
    "    diff = cv2.absdiff(bg.astype(\"uint8\"), image)\r\n",
    "\r\n",
    "    thresholded = cv2.threshold(diff, threshold, 255, cv2.THRESH_BINARY)[1]\r\n",
    "\r\n",
    "    cnts = cv2.findContours(thresholded.copy(), cv2.RETR_EXTERNAL,\r\n",
    "                            cv2.CHAIN_APPROX_SIMPLE)[0]\r\n",
    "\r\n",
    "    if len(cnts) == 0:\r\n",
    "        return\r\n",
    "    else:\r\n",
    "        segmented = max(cnts, key=cv2.contourArea)\r\n",
    "        return (thresholded, segmented)\r\n",
    "\r\n",
    "\r\n",
    "# Function - To count the number of fingers in the segmented hand region\r\n",
    "\r\n",
    "# Main function\r\n",
    "if __name__ == \"__main__\":\r\n",
    "    accumWeight = 0.5\r\n",
    "\r\n",
    "    camera = cv2.VideoCapture(0, cv2.CAP_DSHOW)\r\n",
    "\r\n",
    "    top, right, bottom, left = 10, 350, 210, 550\r\n",
    "\r\n",
    "    num_frames = 0\r\n",
    "\r\n",
    "    imageNumber = 0\r\n",
    "    calibrated = False\r\n",
    "\r\n",
    "    while (True):\r\n",
    "        (grabbed, frame) = camera.read()\r\n",
    "\r\n",
    "        frame = imutils.resize(frame, width=700)\r\n",
    "\r\n",
    "        frame = cv2.flip(frame, 1)\r\n",
    "\r\n",
    "        clone = frame.copy()\r\n",
    "\r\n",
    "        (height, width) = frame.shape[:2]\r\n",
    "\r\n",
    "        roi = frame[top:bottom, right:left]\r\n",
    "\r\n",
    "        gray = cv2.cvtColor(roi, cv2.COLOR_BGR2GRAY)\r\n",
    "        gray = cv2.GaussianBlur(gray, (7, 7), 0)\r\n",
    "\r\n",
    "        if num_frames < 30:\r\n",
    "            run_avg(gray, accumWeight)\r\n",
    "            if num_frames == 1:\r\n",
    "                print(\">>> Please wait! calibrating...\")\r\n",
    "            elif num_frames == 29:\r\n",
    "                print(\">>> Calibration successfull...\")\r\n",
    "        else:\r\n",
    "            hand = segment(gray)\r\n",
    "\r\n",
    "            if hand is not None:\r\n",
    "                (thresholded, segmented) = hand\r\n",
    "                # show the thresholded image\r\n",
    "                cv2.imshow(\"Thesholded\", thresholded)\r\n",
    "                keypress = cv2.waitKey(1) & 0xFF\r\n",
    "                if keypress%256 == 32:\r\n",
    "                    # Set the directory CORRECTLY\r\n",
    "                    directory = \"opencv_frame.jpg\"\r\n",
    "                    cv2.imwrite(directory, thresholded)\r\n",
    "                    print(directory)\r\n",
    "                    break\r\n",
    "\r\n",
    "        # draw the segmented hand\r\n",
    "        cv2.rectangle(clone, (left, top), (right, bottom), (0, 255, 0), 2)\r\n",
    "\r\n",
    "        num_frames += 1\r\n",
    "\r\n",
    "        cv2.imshow(\"Video Feed\", clone)\r\n",
    "\r\n",
    "# free up memory\r\n",
    "camera.release()\r\n",
    "cv2.destroyAllWindows()"
   ],
   "outputs": [
    {
     "output_type": "stream",
     "name": "stdout",
     "text": [
      ">>> Please wait! calibrating...\n",
      ">>> Calibration successfull...\n",
      "opencv_frame.jpg\n"
     ]
    }
   ],
   "metadata": {
    "id": "KqwRMxoGSKLO"
   }
  },
  {
   "cell_type": "code",
   "execution_count": 15,
   "source": [
    "export_dir = \"Model_Hand_Gestures\"\r\n",
    "new_model = tf.keras.models.load_model(export_dir)\r\n",
    "\r\n",
    "import matplotlib.pyplot as plt\r\n",
    "\r\n",
    "class_map = {\r\n",
    "    1: 'C',\r\n",
    "    2: 'Fist',\r\n",
    "    3: 'Index',\r\n",
    "    4: 'L',\r\n",
    "    5: 'OK',\r\n",
    "    6: 'Palm',\r\n",
    "    7: 'Thumb'\r\n",
    "}\r\n",
    "\r\n",
    "\r\n",
    "def predictClass(img_path: str) -> int:\r\n",
    "    img = cv2.imread(img_path, cv2.IMREAD_GRAYSCALE)\r\n",
    "    img = cv2.resize(img, (100, 100))\r\n",
    "    plt.imshow(img, cmap='gray')\r\n",
    "    plt.show()\r\n",
    "    img = img[np.newaxis, :, :, np.newaxis]\r\n",
    "    predicted_class = list(new_model.predict(img)[0])\r\n",
    "    # print(predicted_class)\r\n",
    "    return predicted_class.index(max(predicted_class)) + 1\r\n",
    "\r\n",
    "\r\n",
    "def automateTask(class_no):\r\n",
    "    if class_no == 6:\r\n",
    "        launchFileExplorer()\r\n",
    "    elif class_no == 4:\r\n",
    "        showHelpMenu()\r\n",
    "    elif class_no == 2:\r\n",
    "        takeSS()\r\n",
    "    elif class_no == 7:\r\n",
    "        recordSound()\r\n",
    "    elif class_no == 3:\r\n",
    "        increaseVolume()\r\n",
    "    elif class_no == 5:\r\n",
    "        playMusic()\r\n",
    "    else:\r\n",
    "        decreaseVolume()\r\n",
    "\r\n",
    "\r\n",
    "class_predicted = predictClass(\"opencv_frame.jpg\")\r\n",
    "print(\"Predicted Class: \", class_predicted)\r\n",
    "print(\"Gesture Predicted: \", class_map[class_predicted])\r\n",
    "automateTask(class_predicted)"
   ],
   "outputs": [
    {
     "output_type": "display_data",
     "data": {
      "image/png": "[encoded data removed]",
      "text/plain": [
       "<Figure size 432x288 with 1 Axes>"
      ]
     },
     "metadata": {
      "needs_background": "light"
     }
    },
    {
     "output_type": "stream",
     "name": "stdout",
     "text": [
      "Predicted Class:  2\n",
      "Gesture Predicted:  Fist\n"
     ]
    }
   ],
   "metadata": {
    "id": "SMf5IvdNtdFH"
   }
  },
  {
   "cell_type": "code",
   "execution_count": null,
   "source": [],
   "outputs": [],
   "metadata": {}
  }
 ],
 "metadata": {
  "orig_nbformat": 4,
  "language_info": {
   "name": "python",
   "version": "3.9.2",
   "mimetype": "text/x-python",
   "codemirror_mode": {
    "name": "ipython",
    "version": 3
   },
   "pygments_lexer": "ipython3",
   "nbconvert_exporter": "python",
   "file_extension": ".py"
  },
  "kernelspec": {
   "name": "python3",
   "display_name": "Python 3.9.2 64-bit"
  },
  "interpreter": {
   "hash": "a8e9ca387ae050b0cffb3b7fd3cfaa3e16dc6269390b4b6d3e7bb7f5ab267083"
  }
 },
 "nbformat": 4,
 "nbformat_minor": 2
}