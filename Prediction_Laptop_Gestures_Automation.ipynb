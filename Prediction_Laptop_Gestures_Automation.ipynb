{
 "cells": [
  {
   "cell_type": "markdown",
   "source": [
    "**Imports**"
   ],
   "metadata": {
    "id": "E1-eS4iXKL6s"
   }
  },
  {
   "cell_type": "code",
   "execution_count": 1,
   "source": [
    "from ctypes import cast, POINTER\r\n",
    "from comtypes import CLSCTX_ALL\r\n",
    "from pycaw.pycaw import AudioUtilities, IAudioEndpointVolume\r\n",
    "import math\r\n",
    "import pyautogui\r\n",
    "from playsound import playsound\r\n",
    "import os\r\n",
    "import sounddevice as sd\r\n",
    "import soundfile as sf\r\n",
    "import vlc\r\n",
    "import time\r\n",
    "import os\r\n",
    "from tkinter import *\r\n",
    "import subprocess\r\n",
    "import sys\r\n",
    "import tensorflow as tf\r\n",
    "import cv2\r\n",
    "import numpy as np"
   ],
   "outputs": [],
   "metadata": {
    "id": "UEKc5Vy6J-jN"
   }
  },
  {
   "cell_type": "markdown",
   "source": [
    "**Volume UP**"
   ],
   "metadata": {
    "id": "X4-FvMpAKzT8"
   }
  },
  {
   "cell_type": "code",
   "execution_count": 2,
   "source": [
    "def increaseVolume():\r\n",
    "    devices = AudioUtilities.GetSpeakers()\r\n",
    "    interface = devices.Activate(IAudioEndpointVolume._iid_, CLSCTX_ALL, None)\r\n",
    "    volume = cast(interface, POINTER(IAudioEndpointVolume))\r\n",
    "\r\n",
    "    currentVolumeDb = volume.GetMasterVolumeLevel()\r\n",
    "    volume.SetMasterVolumeLevel(currentVolumeDb + 6.0, None)\r\n"
   ],
   "outputs": [],
   "metadata": {
    "id": "CO698YNGKzT9"
   }
  },
  {
   "cell_type": "markdown",
   "source": [
    "**Volume DOWN**"
   ],
   "metadata": {
    "id": "TVA8NgT0Kzeq"
   }
  },
  {
   "cell_type": "code",
   "execution_count": 3,
   "source": [
    "def decreaseVolume():\r\n",
    "    devices = AudioUtilities.GetSpeakers()\r\n",
    "    interface = devices.Activate(IAudioEndpointVolume._iid_, CLSCTX_ALL, None)\r\n",
    "    volume = cast(interface, POINTER(IAudioEndpointVolume))\r\n",
    "\r\n",
    "    currentVolumeDb = volume.GetMasterVolumeLevel()\r\n",
    "    volume.SetMasterVolumeLevel(currentVolumeDb - 6.0, None)\r\n"
   ],
   "outputs": [],
   "metadata": {
    "id": "-H5Yy_mwKzeq"
   }
  },
  {
   "cell_type": "markdown",
   "source": [
    "**Take an SS**"
   ],
   "metadata": {
    "id": "pDjaYoML30Ww"
   }
  },
  {
   "cell_type": "code",
   "execution_count": 4,
   "source": [
    "def takeSS():\r\n",
    "    myScreenshot = pyautogui.screenshot()\r\n",
    "    myScreenshot.save(r'Photo/saved_ss.png')\r\n"
   ],
   "outputs": [],
   "metadata": {
    "id": "KJpNzAyP27lU"
   }
  },
  {
   "cell_type": "markdown",
   "source": [
    "**Play a song**"
   ],
   "metadata": {
    "id": "Rh7O1-kw5TuD"
   }
  },
  {
   "cell_type": "code",
   "execution_count": 5,
   "source": [
    "def playMusic():\r\n",
    "\r\n",
    "    os.add_dll_directory(r'C:/Program Files (x86)/VideoLAN')\r\n",
    "\r\n",
    "    p = vlc.MediaPlayer(\r\n",
    "        \"E:/Downloads/MLSessions-main/MLSessions-main/MLSession_20_09_2021_CNN/Scam-1992-Ringtone.mp3\"\r\n",
    "    )\r\n",
    "    p.play()\r\n",
    "    time.sleep(60)\r\n",
    "    p.stop()"
   ],
   "outputs": [],
   "metadata": {
    "id": "zwXkPqOD5ajw"
   }
  },
  {
   "cell_type": "markdown",
   "source": [
    "**HELP**"
   ],
   "metadata": {
    "id": "h5QG-WSe3_O3"
   }
  },
  {
   "cell_type": "code",
   "execution_count": 6,
   "source": [
    "def showHelpMenu():\r\n",
    "    path = 'HELP.pdf'\r\n",
    "    os.system(path)\r\n"
   ],
   "outputs": [],
   "metadata": {
    "id": "bUXEd7mC3Fru"
   }
  },
  {
   "cell_type": "markdown",
   "source": [
    "**Record a sound**"
   ],
   "metadata": {
    "id": "DsVrnWmh76by"
   }
  },
  {
   "cell_type": "code",
   "execution_count": 7,
   "source": [
    "def Voice_rec():\r\n",
    "    fs = 48000\r\n",
    "    myrecording = sd.rec(int(10 * fs), samplerate=fs, channels=2)\r\n",
    "    sd.wait()\r\n",
    "    return sf.write('Voice_Recording.flac', myrecording, fs)\r\n",
    "\r\n",
    "\r\n",
    "def recordSound():\r\n",
    "    master = Tk()\r\n",
    "    Label(master, text=\" Voice Recoder : \").grid(row=0, sticky=W, rowspan=5)\r\n",
    "    b = Button(master, text=\"Start\", command=Voice_rec)\r\n",
    "    b.grid(row=0, column=2, columnspan=2, rowspan=2, padx=5, pady=5)\r\n",
    "    mainloop()\r\n"
   ],
   "outputs": [],
   "metadata": {
    "id": "ErvKdO_73UMY"
   }
  },
  {
   "cell_type": "markdown",
   "source": [
    "**Launch File Explorer**"
   ],
   "metadata": {
    "id": "eojsRDpz-Yo5"
   }
  },
  {
   "cell_type": "code",
   "execution_count": 8,
   "source": [
    "def launchFileExplorer():\r\n",
    "    path = r'C:/Program Files (x86)/IronPython 2.7/Lib'\r\n",
    "    sys.path.append(path)\r\n",
    "    subprocess.Popen('explorer \"C:/\"')\r\n"
   ],
   "outputs": [],
   "metadata": {
    "id": "QFv_DDLa7-Yi"
   }
  },
  {
   "cell_type": "markdown",
   "source": [
    "**Function Call**"
   ],
   "metadata": {
    "id": "xJ8eui0dMxn2"
   }
  },
  {
   "cell_type": "code",
   "execution_count": 22,
   "source": [
    "cam = cv2.VideoCapture(0)\r\n",
    "\r\n",
    "cv2.namedWindow(\"test\")\r\n",
    "\r\n",
    "img_counter = 0\r\n",
    "\r\n",
    "while True:\r\n",
    "    ret, frame = cam.read()\r\n",
    "    if not ret:\r\n",
    "        print(\"failed to grab frame\")\r\n",
    "        break\r\n",
    "    cv2.imshow(\"test\", frame)\r\n",
    "\r\n",
    "    k = cv2.waitKey(1)\r\n",
    "    if k % 256 == 27:\r\n",
    "        # ESC pressed\r\n",
    "        print(\"Escape hit, closing...\")\r\n",
    "        break\r\n",
    "    elif k % 256 == 32:\r\n",
    "        # SPACE pressed\r\n",
    "        img_name = \"opencv_frame.png\"\r\n",
    "        cv2.imwrite(img_name, frame)\r\n",
    "        print(\"{} written!\".format(img_name))\r\n",
    "        img_counter += 1\r\n",
    "\r\n",
    "cam.release()\r\n",
    "\r\n",
    "cv2.destroyAllWindows()"
   ],
   "outputs": [
    {
     "output_type": "stream",
     "name": "stdout",
     "text": [
      "opencv_frame.png written!\n",
      "opencv_frame.png written!\n",
      "Escape hit, closing...\n"
     ]
    }
   ],
   "metadata": {
    "id": "KqwRMxoGSKLO"
   }
  },
  {
   "cell_type": "code",
   "execution_count": 23,
   "source": [
    "export_dir = \"Model_Hand_Gestures\"\r\n",
    "new_model = tf.keras.models.load_model(export_dir)\r\n",
    "\r\n",
    "import matplotlib.pyplot as plt\r\n",
    "def predictClass(img_path: str) -> int:\r\n",
    "    img = cv2.imread(img_path, cv2.IMREAD_GRAYSCALE)\r\n",
    "    img = cv2.resize(img, (120, 320))\r\n",
    "    plt.imshow(img,cmap='gray')\r\n",
    "    plt.show()\r\n",
    "    img = img[np.newaxis, :, :, np.newaxis]\r\n",
    "    predicted_class = list(new_model.predict(img)[0])\r\n",
    "    # print(predicted_class)\r\n",
    "    return predicted_class.index(max(predicted_class)) + 1\r\n",
    "    \r\n",
    "\r\n",
    "\r\n",
    "def automateTask(class_no):\r\n",
    "    if class_no == 1:\r\n",
    "        launchFileExplorer()\r\n",
    "    elif class_no == 2:\r\n",
    "        showHelpMenu()\r\n",
    "    elif class_no == 3:\r\n",
    "        takeSS()\r\n",
    "    elif class_no == 4:\r\n",
    "        recordSound()\r\n",
    "    elif class_no == 5:\r\n",
    "        increaseVolume()\r\n",
    "    elif class_no == 6:\r\n",
    "        playMusic()\r\n",
    "    elif class_no == 7:\r\n",
    "        decreaseVolume()\r\n",
    "    else:\r\n",
    "        print(\"None of the options match! Pls try again.\")\r\n",
    "\r\n",
    "\r\n",
    "class_predicted = predictClass(\"opencv_frame.png\")\r\n",
    "print(\"Predicted Class: \", class_predicted)\r\n",
    "automateTask(class_predicted)"
   ],
   "outputs": [
    {
     "output_type": "display_data",
     "data": {
      "image/png": "[encoded data removed]",
      "text/plain": [
       "<Figure size 432x288 with 1 Axes>"
      ]
     },
     "metadata": {
      "needs_background": "light"
     }
    },
    {
     "output_type": "stream",
     "name": "stdout",
     "text": [
      "Predicted Class:  8\n",
      "None of the options match! Pls try again.\n"
     ]
    }
   ],
   "metadata": {
    "id": "SMf5IvdNtdFH"
   }
  },
  {
   "cell_type": "code",
   "execution_count": null,
   "source": [],
   "outputs": [],
   "metadata": {}
  }
 ],
 "metadata": {
  "orig_nbformat": 4,
  "language_info": {
   "name": "python",
   "version": "3.9.2",
   "mimetype": "text/x-python",
   "codemirror_mode": {
    "name": "ipython",
    "version": 3
   },
   "pygments_lexer": "ipython3",
   "nbconvert_exporter": "python",
   "file_extension": ".py"
  },
  "kernelspec": {
   "name": "python3",
   "display_name": "Python 3.9.2 64-bit"
  },
  "interpreter": {
   "hash": "a8e9ca387ae050b0cffb3b7fd3cfaa3e16dc6269390b4b6d3e7bb7f5ab267083"
  }
 },
 "nbformat": 4,
 "nbformat_minor": 2
}